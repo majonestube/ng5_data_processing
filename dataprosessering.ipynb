{
 "cells": [
  {
   "cell_type": "markdown",
   "metadata": {},
   "source": [
    "# Dataprosessering\n",
    "Denne innleveringen omhandler innlesing, tolkning og manupulering av data. Data finnes i\n",
    "mange ulike formater, f.eks. databaser, tabeller, lyd, bilde, osv., men i denne\n",
    "innleveringen skal vi fokusere på to typiske formater for lagring av data i tekstformat\n",
    "(CSV og JSON), og på lagring av data i form av \"arrays\". \n",
    "\n",
    "Denne innleveringen har 7 oppgaver til sammen. Avhengig av hvor mye erfaring du har med\n",
    "innlesing fra fil, nøstede datastrukturer, vektorer/matriser, og NumPy, kan oppgavene\n",
    "oppleves lette eller vanskeligere. Dersom du synes det er vanskelig: Gjør et ærlig\n",
    "forsøk, og hvis du ikke fikk det til, skriv en kort kommentar om hva du har prøvd og\n",
    "hvordan det gikk (du kan opprette en ny markdown-celle for å gjøre dette).  \n",
    "\n",
    "Som for tidligere innleveringer er denne notebooken en miks av oppgavetekst, startkode\n",
    "og tester som sjekker om koden du implementerer fungerer (ipytest). Temaene for\n",
    "oppgavene er gjennomgått i videoer som hører til denne modulen.  \n",
    "\n",
    "Vi importerer først bibliotekene vi skal bruke. Merk at veldig mange \"data\n",
    "science\"-eksempler bruker Pandas-biblioteket for å lese inn data i tekstformat. Det skal\n",
    "vi ikke gjøre her - vi bruker heller `csv`- og `json`-modulene som er \"innebygget\" i\n",
    "Python. Hensikten med dette er å få en bedre intuisjon for hvordan konverteringen fra\n",
    "tekst foregår. "
   ]
  },
  {
   "cell_type": "code",
   "execution_count": 1,
   "metadata": {},
   "outputs": [],
   "source": [
    "# Imports (don't add extra imports, like e.g. pandas)\n",
    "import csv\n",
    "import json\n",
    "import ipytest\n",
    "import numpy as np  # Standard short name for NumPy\n",
    "from pathlib import Path\n",
    "from numpy.typing import NDArray\n",
    "import matplotlib.pyplot as plt\n"
   ]
  },
  {
   "cell_type": "code",
   "execution_count": 2,
   "metadata": {},
   "outputs": [],
   "source": [
    "# Set up pytest for Jupyter notebooks\n",
    "ipytest.autoconfig()"
   ]
  },
  {
   "cell_type": "markdown",
   "metadata": {},
   "source": [
    "## Oppgave 1: Opprette array og finne gjennomsnitt\n",
    "Skriv kode som oppretter et NumPy-array som heter `X` og som inneholder verdiene vist\n",
    "under. Bruk funksjonen `np.mean()` til å regne ut \n",
    "1. Gjennomsnittsverdien for hele arrayet\n",
    "2. Gjennomsnittsverdiene for hver kolonne\n",
    "\n",
    "Bruk `print` for å skrive ut hele arrayet, samt svarene på alle spørsmålene over. (Tips:\n",
    "Finn NumPy-dokumentasjonen og sjekk ut argumentet \"`axis`\" for `np.mean()`).\n",
    "\n",
    "$$ X = \\begin{bmatrix} 14.2 & 75.3 & 2.3 \\\\ 12.7 & 133.5 & 5.9 \\\\ 18.8 & 54.0 & -1.1\n",
    "\\\\ 8.4 & 109.9 & 3.1 \\\\ \\end{bmatrix} $$"
   ]
  },
  {
   "cell_type": "code",
   "execution_count": 3,
   "metadata": {},
   "outputs": [
    {
     "name": "stdout",
     "output_type": "stream",
     "text": [
      "[[ 14.2  75.3   2.3]\n",
      " [ 12.7 133.5   5.9]\n",
      " [ 18.8  54.   -1.1]\n",
      " [  8.4 109.9   3.1]]\n",
      "\n",
      "Gjennomsnitt av hele arrayet: 36.416666666666664\n",
      "\n",
      "Gjennomsnitt av de ulike kolonnene: [13.525 93.175  2.55 ]\n"
     ]
    }
   ],
   "source": [
    "# Add your code here\n",
    "X = np.array([[14.2, 75.3, 2.3], \n",
    "              [12.7, 133.5, 5.9],\n",
    "              [18.8, 54.0, -1.1],\n",
    "              [8.4, 109.9, 3.1]])\n",
    "\n",
    "X_mean = np.mean(X)\n",
    "X_mean_col = np.mean(X, axis = 0)\n",
    "\n",
    "print(X); print()\n",
    "print(f'Gjennomsnitt av hele arrayet: {X_mean}'); print()\n",
    "print(f'Gjennomsnitt av de ulike kolonnene: {X_mean_col}')"
   ]
  },
  {
   "cell_type": "markdown",
   "metadata": {},
   "source": [
    "## Oppgave 2: Normalisere data\n",
    "I maskinlæring og AI brukes ofte data der forskjellige \"features\" (ting man observerer)\n",
    "har ulike størrelsesordener. For eksempel: En voksen person er gjerne mellom 1,4 og 2,0\n",
    "meter høy, og veier mellom cirka 40 og 120 kg. Hvis man bruker disse størrelsene direkte i en\n",
    "maskinlæringsalgoritme, vil vekt ha en tendens til å \"dominere\", siden tallene for vekt\n",
    "er større enn tallene for høyde. Rent matematisk er er også ofte nyttig at verdiene er\n",
    "små (gjerne med absoluttverdier mellom 0 og 1), og at de er \"sentrert\" rundt null, dvs.\n",
    "at gjennomsnittsverdien er null. \n",
    "\n",
    "Vi kan normalisere ulike verdier gjennom å beregne såkalt\n",
    "[\"Z-score\"](https://en.wikipedia.org/wiki/Standard_score), også kalt \"standard score\".\n",
    "\n",
    "$$z = \\frac{x-\\mu}{\\sigma}$$\n",
    "\n",
    "der $x$ er den opprinnelige verdien, $\\mu$ er gjennomsnittsverdien, og $\\sigma$ er\n",
    "standardavviket. Merk at Z-score må beregnes for hver enkelt type observasjon, dvs. for\n",
    "hver kolonne i datasettet. Metoden fungerer best når datasettet følger en\n",
    "normalfordeling, men fungerer også fint for mange andre fordelinger.\n",
    "\n",
    "Hvis en person veier $x$=60 kg, gjennomsnittsvekten i datasettet\n",
    "er $\\mu$=70 kg, og standardavviket er $\\sigma$=20 kg, er z-score for denne vekten\n",
    "\n",
    "$$z = \\frac{60 - 70}{20} = \\frac{-10}{20} = -0.5$$\n",
    "\n",
    "*Implementer en funksjon som normaliserer en matrise med data gjennom å beregne Z-score\n",
    "for hver kolonne. Bruk NumPy-funksjoner og matematiske operasjoner som opererer på hele\n",
    "arrayet (unngå å \"loope over datasettet\", om du kan). Normaliser kun kolonnene som er\n",
    "indikert med det boolske arrayet norm_col.*\n"
   ]
  },
  {
   "cell_type": "code",
   "execution_count": 241,
   "metadata": {},
   "outputs": [
    {
     "name": "stdout",
     "output_type": "stream",
     "text": [
      "[[ 1.05975976e+00  6.10000000e+01 -1.57127047e+00]\n",
      " [-8.90198197e-01  7.60000000e+01  3.39734156e-01]\n",
      " [-1.10215015e+00  8.80000000e+01  4.24667695e-02]\n",
      " [ 9.32588587e-01  4.30000000e+01  1.18906955e+00]]\n"
     ]
    }
   ],
   "source": [
    "def normalize_data_zscore(X: NDArray, norm_col: NDArray) -> NDArray:\n",
    "    \"\"\"Normalize data columns by subtracting mean and dividing by std.dev. (\"z-score\")\n",
    "\n",
    "    Parameters\n",
    "    ----------\n",
    "    X: NDArray\n",
    "        Numpy array (matrix) with numerical data, shape (n_samples, n_features)\n",
    "    norm_col: NDarray\n",
    "        Boolean vector, shape (n_features,).\n",
    "        Set norm_col[i] = True to indicate that column i should be normalized.\n",
    "\n",
    "    Returns\n",
    "    -------\n",
    "    X_norm\n",
    "        Normalized version of X. In columns indicated by norm_col, the mean column value\n",
    "        is first subtracted, and the resulting value is scaled by dividing with the\n",
    "        column standard deviation.\n",
    "\n",
    "    Notes\n",
    "    -----\n",
    "    Numpy methods np.copy, np.mean() and np.std() could be useful.\n",
    "    See also https://en.wikipedia.org/wiki/Standard_score\n",
    "    \"\"\"\n",
    "    X_mean_col = X[:, norm_col].mean(axis=0)\n",
    "    X_std_col = X[:, norm_col].std(axis=0)\n",
    "\n",
    "    X_norm = np.copy(X)\n",
    "    X_norm[:, norm_col] = (X[:, norm_col] - X_mean_col) / X_std_col\n",
    "\n",
    "    \n",
    "    return X_norm\n",
    "\n",
    "X = np.array(\n",
    "        [[73.0, 61.0, 18.0], [27.0, 76.0, 63.0], [22.0, 88.0, 56.0], [70.0, 43.0, 83.0]]\n",
    "    )\n",
    "col_norm = np.array([True, False, True])\n",
    "print(normalize_data_zscore(X, col_norm))"
   ]
  },
  {
   "cell_type": "code",
   "execution_count": 242,
   "metadata": {},
   "outputs": [
    {
     "name": "stdout",
     "output_type": "stream",
     "text": [
      "\u001b[32m.\u001b[0m\u001b[32m                                                                                            [100%]\u001b[0m\n",
      "\u001b[32m\u001b[32m\u001b[1m1 passed\u001b[0m\u001b[32m in 0.01s\u001b[0m\u001b[0m\n"
     ]
    }
   ],
   "source": [
    "%%ipytest\n",
    "\n",
    "\n",
    "def test_normalize_data_zscore():\n",
    "    \"\"\"Test Z-score normalization of specific columns in dataset\"\"\"\n",
    "    X = np.array(\n",
    "        [[73.0, 61.0, 18.0], [27.0, 76.0, 63.0], [22.0, 88.0, 56.0], [70.0, 43.0, 83.0]]\n",
    "    )\n",
    "    col_norm = np.array([True, False, True])\n",
    "    X_norm = normalize_data_zscore(X, col_norm)\n",
    "    assert np.allclose(\n",
    "        X_norm,\n",
    "        np.array(\n",
    "            [\n",
    "                [1.05975976, 61.0, -1.57127047],\n",
    "                [-0.8901982, 76.0, 0.33973416],\n",
    "                [-1.10215015, 88.0, 0.04246677],\n",
    "                [0.93258859, 43.0, 1.18906955],\n",
    "            ]\n",
    "        ),\n",
    "    )"
   ]
  },
  {
   "cell_type": "markdown",
   "metadata": {},
   "source": [
    "# Oppgave 3: Lese CSV-fil\n",
    "Skriv kode som leser data fra fila `winequality-white.csv` (i mappa `datasets`) og returnerer en liste med\n",
    "overskrifter for hver kolonne, og en \"liste av lister\" med de numeriske dataene, der\n",
    "hvert element i lista tilsvarer en rad (en linje) i tekstfila.\n",
    "\n",
    "Merk: Bruk klasser / funksjoner fra `csv`-modulen."
   ]
  },
  {
   "cell_type": "code",
   "execution_count": 64,
   "metadata": {},
   "outputs": [
    {
     "name": "stdout",
     "output_type": "stream",
     "text": [
      "['species', 'island', 'culmen_length_mm', 'culmen_depth_mm', 'flipper_length_mm', 'body_mass_g', 'sex']\n",
      "[['Adelie', 'Torgersen', '39.1', '18.7', '181', '3750', 'MALE'], ['Adelie', 'Torgersen', '39.5', '17.4', '186', '3800', 'FEMALE'], ['Adelie', 'Torgersen', '40.3', '18', '195', '3250', 'FEMALE'], ['Adelie', 'Torgersen', 'NA', 'NA', 'NA', 'NA', 'NA'], ['Adelie', 'Torgersen', '36.7', '19.3', '193', '3450', 'FEMALE'], ['Adelie', 'Torgersen', '39.3', '20.6', '190', '3650', 'MALE'], ['Adelie', 'Torgersen', '38.9', '17.8', '181', '3625', 'FEMALE'], ['Adelie', 'Torgersen', '39.2', '19.6', '195', '4675', 'MALE'], ['Adelie', 'Torgersen', '34.1', '18.1', '193', '3475', 'NA'], ['Adelie', 'Torgersen', '42', '20.2', '190', '4250', 'NA'], ['Adelie', 'Torgersen', '37.8', '17.1', '186', '3300', 'NA'], ['Adelie', 'Torgersen', '37.8', '17.3', '180', '3700', 'NA'], ['Adelie', 'Torgersen', '41.1', '17.6', '182', '3200', 'FEMALE'], ['Adelie', 'Torgersen', '38.6', '21.2', '191', '3800', 'MALE'], ['Adelie', 'Torgersen', '34.6', '21.1', '198', '4400', 'MALE'], ['Adelie', 'Torgersen', '36.6', '17.8', '185', '3700', 'FEMALE'], ['Adelie', 'Torgersen', '38.7', '19', '195', '3450', 'FEMALE'], ['Adelie', 'Torgersen', '42.5', '20.7', '197', '4500', 'MALE'], ['Adelie', 'Torgersen', '34.4', '18.4', '184', '3325', 'FEMALE'], ['Adelie', 'Torgersen', '46', '21.5', '194', '4200', 'MALE'], ['Adelie', 'Biscoe', '37.8', '18.3', '174', '3400', 'FEMALE'], ['Adelie', 'Biscoe', '37.7', '18.7', '180', '3600', 'MALE'], ['Adelie', 'Biscoe', '35.9', '19.2', '189', '3800', 'FEMALE'], ['Adelie', 'Biscoe', '38.2', '18.1', '185', '3950', 'MALE'], ['Adelie', 'Biscoe', '38.8', '17.2', '180', '3800', 'MALE'], ['Adelie', 'Biscoe', '35.3', '18.9', '187', '3800', 'FEMALE'], ['Adelie', 'Biscoe', '40.6', '18.6', '183', '3550', 'MALE'], ['Adelie', 'Biscoe', '40.5', '17.9', '187', '3200', 'FEMALE'], ['Adelie', 'Biscoe', '37.9', '18.6', '172', '3150', 'FEMALE'], ['Adelie', 'Biscoe', '40.5', '18.9', '180', '3950', 'MALE'], ['Adelie', 'Dream', '39.5', '16.7', '178', '3250', 'FEMALE'], ['Adelie', 'Dream', '37.2', '18.1', '178', '3900', 'MALE'], ['Adelie', 'Dream', '39.5', '17.8', '188', '3300', 'FEMALE'], ['Adelie', 'Dream', '40.9', '18.9', '184', '3900', 'MALE'], ['Adelie', 'Dream', '36.4', '17', '195', '3325', 'FEMALE'], ['Adelie', 'Dream', '39.2', '21.1', '196', '4150', 'MALE'], ['Adelie', 'Dream', '38.8', '20', '190', '3950', 'MALE'], ['Adelie', 'Dream', '42.2', '18.5', '180', '3550', 'FEMALE'], ['Adelie', 'Dream', '37.6', '19.3', '181', '3300', 'FEMALE'], ['Adelie', 'Dream', '39.8', '19.1', '184', '4650', 'MALE'], ['Adelie', 'Dream', '36.5', '18', '182', '3150', 'FEMALE'], ['Adelie', 'Dream', '40.8', '18.4', '195', '3900', 'MALE'], ['Adelie', 'Dream', '36', '18.5', '186', '3100', 'FEMALE'], ['Adelie', 'Dream', '44.1', '19.7', '196', '4400', 'MALE'], ['Adelie', 'Dream', '37', '16.9', '185', '3000', 'FEMALE'], ['Adelie', 'Dream', '39.6', '18.8', '190', '4600', 'MALE'], ['Adelie', 'Dream', '41.1', '19', '182', '3425', 'MALE'], ['Adelie', 'Dream', '37.5', '18.9', '179', '2975', 'NA'], ['Adelie', 'Dream', '36', '17.9', '190', '3450', 'FEMALE'], ['Adelie', 'Dream', '42.3', '21.2', '191', '4150', 'MALE'], ['Adelie', 'Biscoe', '39.6', '17.7', '186', '3500', 'FEMALE'], ['Adelie', 'Biscoe', '40.1', '18.9', '188', '4300', 'MALE'], ['Adelie', 'Biscoe', '35', '17.9', '190', '3450', 'FEMALE'], ['Adelie', 'Biscoe', '42', '19.5', '200', '4050', 'MALE'], ['Adelie', 'Biscoe', '34.5', '18.1', '187', '2900', 'FEMALE'], ['Adelie', 'Biscoe', '41.4', '18.6', '191', '3700', 'MALE'], ['Adelie', 'Biscoe', '39', '17.5', '186', '3550', 'FEMALE'], ['Adelie', 'Biscoe', '40.6', '18.8', '193', '3800', 'MALE'], ['Adelie', 'Biscoe', '36.5', '16.6', '181', '2850', 'FEMALE'], ['Adelie', 'Biscoe', '37.6', '19.1', '194', '3750', 'MALE'], ['Adelie', 'Biscoe', '35.7', '16.9', '185', '3150', 'FEMALE'], ['Adelie', 'Biscoe', '41.3', '21.1', '195', '4400', 'MALE'], ['Adelie', 'Biscoe', '37.6', '17', '185', '3600', 'FEMALE'], ['Adelie', 'Biscoe', '41.1', '18.2', '192', '4050', 'MALE'], ['Adelie', 'Biscoe', '36.4', '17.1', '184', '2850', 'FEMALE'], ['Adelie', 'Biscoe', '41.6', '18', '192', '3950', 'MALE'], ['Adelie', 'Biscoe', '35.5', '16.2', '195', '3350', 'FEMALE'], ['Adelie', 'Biscoe', '41.1', '19.1', '188', '4100', 'MALE'], ['Adelie', 'Torgersen', '35.9', '16.6', '190', '3050', 'FEMALE'], ['Adelie', 'Torgersen', '41.8', '19.4', '198', '4450', 'MALE'], ['Adelie', 'Torgersen', '33.5', '19', '190', '3600', 'FEMALE'], ['Adelie', 'Torgersen', '39.7', '18.4', '190', '3900', 'MALE'], ['Adelie', 'Torgersen', '39.6', '17.2', '196', '3550', 'FEMALE'], ['Adelie', 'Torgersen', '45.8', '18.9', '197', '4150', 'MALE'], ['Adelie', 'Torgersen', '35.5', '17.5', '190', '3700', 'FEMALE'], ['Adelie', 'Torgersen', '42.8', '18.5', '195', '4250', 'MALE'], ['Adelie', 'Torgersen', '40.9', '16.8', '191', '3700', 'FEMALE'], ['Adelie', 'Torgersen', '37.2', '19.4', '184', '3900', 'MALE'], ['Adelie', 'Torgersen', '36.2', '16.1', '187', '3550', 'FEMALE'], ['Adelie', 'Torgersen', '42.1', '19.1', '195', '4000', 'MALE'], ['Adelie', 'Torgersen', '34.6', '17.2', '189', '3200', 'FEMALE'], ['Adelie', 'Torgersen', '42.9', '17.6', '196', '4700', 'MALE'], ['Adelie', 'Torgersen', '36.7', '18.8', '187', '3800', 'FEMALE'], ['Adelie', 'Torgersen', '35.1', '19.4', '193', '4200', 'MALE'], ['Adelie', 'Dream', '37.3', '17.8', '191', '3350', 'FEMALE'], ['Adelie', 'Dream', '41.3', '20.3', '194', '3550', 'MALE'], ['Adelie', 'Dream', '36.3', '19.5', '190', '3800', 'MALE'], ['Adelie', 'Dream', '36.9', '18.6', '189', '3500', 'FEMALE'], ['Adelie', 'Dream', '38.3', '19.2', '189', '3950', 'MALE'], ['Adelie', 'Dream', '38.9', '18.8', '190', '3600', 'FEMALE'], ['Adelie', 'Dream', '35.7', '18', '202', '3550', 'FEMALE'], ['Adelie', 'Dream', '41.1', '18.1', '205', '4300', 'MALE'], ['Adelie', 'Dream', '34', '17.1', '185', '3400', 'FEMALE'], ['Adelie', 'Dream', '39.6', '18.1', '186', '4450', 'MALE'], ['Adelie', 'Dream', '36.2', '17.3', '187', '3300', 'FEMALE'], ['Adelie', 'Dream', '40.8', '18.9', '208', '4300', 'MALE'], ['Adelie', 'Dream', '38.1', '18.6', '190', '3700', 'FEMALE'], ['Adelie', 'Dream', '40.3', '18.5', '196', '4350', 'MALE'], ['Adelie', 'Dream', '33.1', '16.1', '178', '2900', 'FEMALE'], ['Adelie', 'Dream', '43.2', '18.5', '192', '4100', 'MALE'], ['Adelie', 'Biscoe', '35', '17.9', '192', '3725', 'FEMALE'], ['Adelie', 'Biscoe', '41', '20', '203', '4725', 'MALE'], ['Adelie', 'Biscoe', '37.7', '16', '183', '3075', 'FEMALE'], ['Adelie', 'Biscoe', '37.8', '20', '190', '4250', 'MALE'], ['Adelie', 'Biscoe', '37.9', '18.6', '193', '2925', 'FEMALE'], ['Adelie', 'Biscoe', '39.7', '18.9', '184', '3550', 'MALE'], ['Adelie', 'Biscoe', '38.6', '17.2', '199', '3750', 'FEMALE'], ['Adelie', 'Biscoe', '38.2', '20', '190', '3900', 'MALE'], ['Adelie', 'Biscoe', '38.1', '17', '181', '3175', 'FEMALE'], ['Adelie', 'Biscoe', '43.2', '19', '197', '4775', 'MALE'], ['Adelie', 'Biscoe', '38.1', '16.5', '198', '3825', 'FEMALE'], ['Adelie', 'Biscoe', '45.6', '20.3', '191', '4600', 'MALE'], ['Adelie', 'Biscoe', '39.7', '17.7', '193', '3200', 'FEMALE'], ['Adelie', 'Biscoe', '42.2', '19.5', '197', '4275', 'MALE'], ['Adelie', 'Biscoe', '39.6', '20.7', '191', '3900', 'FEMALE'], ['Adelie', 'Biscoe', '42.7', '18.3', '196', '4075', 'MALE'], ['Adelie', 'Torgersen', '38.6', '17', '188', '2900', 'FEMALE'], ['Adelie', 'Torgersen', '37.3', '20.5', '199', '3775', 'MALE'], ['Adelie', 'Torgersen', '35.7', '17', '189', '3350', 'FEMALE'], ['Adelie', 'Torgersen', '41.1', '18.6', '189', '3325', 'MALE'], ['Adelie', 'Torgersen', '36.2', '17.2', '187', '3150', 'FEMALE'], ['Adelie', 'Torgersen', '37.7', '19.8', '198', '3500', 'MALE'], ['Adelie', 'Torgersen', '40.2', '17', '176', '3450', 'FEMALE'], ['Adelie', 'Torgersen', '41.4', '18.5', '202', '3875', 'MALE'], ['Adelie', 'Torgersen', '35.2', '15.9', '186', '3050', 'FEMALE'], ['Adelie', 'Torgersen', '40.6', '19', '199', '4000', 'MALE'], ['Adelie', 'Torgersen', '38.8', '17.6', '191', '3275', 'FEMALE'], ['Adelie', 'Torgersen', '41.5', '18.3', '195', '4300', 'MALE'], ['Adelie', 'Torgersen', '39', '17.1', '191', '3050', 'FEMALE'], ['Adelie', 'Torgersen', '44.1', '18', '210', '4000', 'MALE'], ['Adelie', 'Torgersen', '38.5', '17.9', '190', '3325', 'FEMALE'], ['Adelie', 'Torgersen', '43.1', '19.2', '197', '3500', 'MALE'], ['Adelie', 'Dream', '36.8', '18.5', '193', '3500', 'FEMALE'], ['Adelie', 'Dream', '37.5', '18.5', '199', '4475', 'MALE'], ['Adelie', 'Dream', '38.1', '17.6', '187', '3425', 'FEMALE'], ['Adelie', 'Dream', '41.1', '17.5', '190', '3900', 'MALE'], ['Adelie', 'Dream', '35.6', '17.5', '191', '3175', 'FEMALE'], ['Adelie', 'Dream', '40.2', '20.1', '200', '3975', 'MALE'], ['Adelie', 'Dream', '37', '16.5', '185', '3400', 'FEMALE'], ['Adelie', 'Dream', '39.7', '17.9', '193', '4250', 'MALE'], ['Adelie', 'Dream', '40.2', '17.1', '193', '3400', 'FEMALE'], ['Adelie', 'Dream', '40.6', '17.2', '187', '3475', 'MALE'], ['Adelie', 'Dream', '32.1', '15.5', '188', '3050', 'FEMALE'], ['Adelie', 'Dream', '40.7', '17', '190', '3725', 'MALE'], ['Adelie', 'Dream', '37.3', '16.8', '192', '3000', 'FEMALE'], ['Adelie', 'Dream', '39', '18.7', '185', '3650', 'MALE'], ['Adelie', 'Dream', '39.2', '18.6', '190', '4250', 'MALE'], ['Adelie', 'Dream', '36.6', '18.4', '184', '3475', 'FEMALE'], ['Adelie', 'Dream', '36', '17.8', '195', '3450', 'FEMALE'], ['Adelie', 'Dream', '37.8', '18.1', '193', '3750', 'MALE'], ['Adelie', 'Dream', '36', '17.1', '187', '3700', 'FEMALE'], ['Adelie', 'Dream', '41.5', '18.5', '201', '4000', 'MALE'], ['Chinstrap', 'Dream', '46.5', '17.9', '192', '3500', 'FEMALE'], ['Chinstrap', 'Dream', '50', '19.5', '196', '3900', 'MALE'], ['Chinstrap', 'Dream', '51.3', '19.2', '193', '3650', 'MALE'], ['Chinstrap', 'Dream', '45.4', '18.7', '188', '3525', 'FEMALE'], ['Chinstrap', 'Dream', '52.7', '19.8', '197', '3725', 'MALE'], ['Chinstrap', 'Dream', '45.2', '17.8', '198', '3950', 'FEMALE'], ['Chinstrap', 'Dream', '46.1', '18.2', '178', '3250', 'FEMALE'], ['Chinstrap', 'Dream', '51.3', '18.2', '197', '3750', 'MALE'], ['Chinstrap', 'Dream', '46', '18.9', '195', '4150', 'FEMALE'], ['Chinstrap', 'Dream', '51.3', '19.9', '198', '3700', 'MALE'], ['Chinstrap', 'Dream', '46.6', '17.8', '193', '3800', 'FEMALE'], ['Chinstrap', 'Dream', '51.7', '20.3', '194', '3775', 'MALE'], ['Chinstrap', 'Dream', '47', '17.3', '185', '3700', 'FEMALE'], ['Chinstrap', 'Dream', '52', '18.1', '201', '4050', 'MALE'], ['Chinstrap', 'Dream', '45.9', '17.1', '190', '3575', 'FEMALE'], ['Chinstrap', 'Dream', '50.5', '19.6', '201', '4050', 'MALE'], ['Chinstrap', 'Dream', '50.3', '20', '197', '3300', 'MALE'], ['Chinstrap', 'Dream', '58', '17.8', '181', '3700', 'FEMALE'], ['Chinstrap', 'Dream', '46.4', '18.6', '190', '3450', 'FEMALE'], ['Chinstrap', 'Dream', '49.2', '18.2', '195', '4400', 'MALE'], ['Chinstrap', 'Dream', '42.4', '17.3', '181', '3600', 'FEMALE'], ['Chinstrap', 'Dream', '48.5', '17.5', '191', '3400', 'MALE'], ['Chinstrap', 'Dream', '43.2', '16.6', '187', '2900', 'FEMALE'], ['Chinstrap', 'Dream', '50.6', '19.4', '193', '3800', 'MALE'], ['Chinstrap', 'Dream', '46.7', '17.9', '195', '3300', 'FEMALE'], ['Chinstrap', 'Dream', '52', '19', '197', '4150', 'MALE'], ['Chinstrap', 'Dream', '50.5', '18.4', '200', '3400', 'FEMALE'], ['Chinstrap', 'Dream', '49.5', '19', '200', '3800', 'MALE'], ['Chinstrap', 'Dream', '46.4', '17.8', '191', '3700', 'FEMALE'], ['Chinstrap', 'Dream', '52.8', '20', '205', '4550', 'MALE'], ['Chinstrap', 'Dream', '40.9', '16.6', '187', '3200', 'FEMALE'], ['Chinstrap', 'Dream', '54.2', '20.8', '201', '4300', 'MALE'], ['Chinstrap', 'Dream', '42.5', '16.7', '187', '3350', 'FEMALE'], ['Chinstrap', 'Dream', '51', '18.8', '203', '4100', 'MALE'], ['Chinstrap', 'Dream', '49.7', '18.6', '195', '3600', 'MALE'], ['Chinstrap', 'Dream', '47.5', '16.8', '199', '3900', 'FEMALE'], ['Chinstrap', 'Dream', '47.6', '18.3', '195', '3850', 'FEMALE'], ['Chinstrap', 'Dream', '52', '20.7', '210', '4800', 'MALE'], ['Chinstrap', 'Dream', '46.9', '16.6', '192', '2700', 'FEMALE'], ['Chinstrap', 'Dream', '53.5', '19.9', '205', '4500', 'MALE'], ['Chinstrap', 'Dream', '49', '19.5', '210', '3950', 'MALE'], ['Chinstrap', 'Dream', '46.2', '17.5', '187', '3650', 'FEMALE'], ['Chinstrap', 'Dream', '50.9', '19.1', '196', '3550', 'MALE'], ['Chinstrap', 'Dream', '45.5', '17', '196', '3500', 'FEMALE'], ['Chinstrap', 'Dream', '50.9', '17.9', '196', '3675', 'FEMALE'], ['Chinstrap', 'Dream', '50.8', '18.5', '201', '4450', 'MALE'], ['Chinstrap', 'Dream', '50.1', '17.9', '190', '3400', 'FEMALE'], ['Chinstrap', 'Dream', '49', '19.6', '212', '4300', 'MALE'], ['Chinstrap', 'Dream', '51.5', '18.7', '187', '3250', 'MALE'], ['Chinstrap', 'Dream', '49.8', '17.3', '198', '3675', 'FEMALE'], ['Chinstrap', 'Dream', '48.1', '16.4', '199', '3325', 'FEMALE'], ['Chinstrap', 'Dream', '51.4', '19', '201', '3950', 'MALE'], ['Chinstrap', 'Dream', '45.7', '17.3', '193', '3600', 'FEMALE'], ['Chinstrap', 'Dream', '50.7', '19.7', '203', '4050', 'MALE'], ['Chinstrap', 'Dream', '42.5', '17.3', '187', '3350', 'FEMALE'], ['Chinstrap', 'Dream', '52.2', '18.8', '197', '3450', 'MALE'], ['Chinstrap', 'Dream', '45.2', '16.6', '191', '3250', 'FEMALE'], ['Chinstrap', 'Dream', '49.3', '19.9', '203', '4050', 'MALE'], ['Chinstrap', 'Dream', '50.2', '18.8', '202', '3800', 'MALE'], ['Chinstrap', 'Dream', '45.6', '19.4', '194', '3525', 'FEMALE'], ['Chinstrap', 'Dream', '51.9', '19.5', '206', '3950', 'MALE'], ['Chinstrap', 'Dream', '46.8', '16.5', '189', '3650', 'FEMALE'], ['Chinstrap', 'Dream', '45.7', '17', '195', '3650', 'FEMALE'], ['Chinstrap', 'Dream', '55.8', '19.8', '207', '4000', 'MALE'], ['Chinstrap', 'Dream', '43.5', '18.1', '202', '3400', 'FEMALE'], ['Chinstrap', 'Dream', '49.6', '18.2', '193', '3775', 'MALE'], ['Chinstrap', 'Dream', '50.8', '19', '210', '4100', 'MALE'], ['Chinstrap', 'Dream', '50.2', '18.7', '198', '3775', 'FEMALE'], ['Gentoo', 'Biscoe', '46.1', '13.2', '211', '4500', 'FEMALE'], ['Gentoo', 'Biscoe', '50', '16.3', '230', '5700', 'MALE'], ['Gentoo', 'Biscoe', '48.7', '14.1', '210', '4450', 'FEMALE'], ['Gentoo', 'Biscoe', '50', '15.2', '218', '5700', 'MALE'], ['Gentoo', 'Biscoe', '47.6', '14.5', '215', '5400', 'MALE'], ['Gentoo', 'Biscoe', '46.5', '13.5', '210', '4550', 'FEMALE'], ['Gentoo', 'Biscoe', '45.4', '14.6', '211', '4800', 'FEMALE'], ['Gentoo', 'Biscoe', '46.7', '15.3', '219', '5200', 'MALE'], ['Gentoo', 'Biscoe', '43.3', '13.4', '209', '4400', 'FEMALE'], ['Gentoo', 'Biscoe', '46.8', '15.4', '215', '5150', 'MALE'], ['Gentoo', 'Biscoe', '40.9', '13.7', '214', '4650', 'FEMALE'], ['Gentoo', 'Biscoe', '49', '16.1', '216', '5550', 'MALE'], ['Gentoo', 'Biscoe', '45.5', '13.7', '214', '4650', 'FEMALE'], ['Gentoo', 'Biscoe', '48.4', '14.6', '213', '5850', 'MALE'], ['Gentoo', 'Biscoe', '45.8', '14.6', '210', '4200', 'FEMALE'], ['Gentoo', 'Biscoe', '49.3', '15.7', '217', '5850', 'MALE'], ['Gentoo', 'Biscoe', '42', '13.5', '210', '4150', 'FEMALE'], ['Gentoo', 'Biscoe', '49.2', '15.2', '221', '6300', 'MALE'], ['Gentoo', 'Biscoe', '46.2', '14.5', '209', '4800', 'FEMALE'], ['Gentoo', 'Biscoe', '48.7', '15.1', '222', '5350', 'MALE'], ['Gentoo', 'Biscoe', '50.2', '14.3', '218', '5700', 'MALE'], ['Gentoo', 'Biscoe', '45.1', '14.5', '215', '5000', 'FEMALE'], ['Gentoo', 'Biscoe', '46.5', '14.5', '213', '4400', 'FEMALE'], ['Gentoo', 'Biscoe', '46.3', '15.8', '215', '5050', 'MALE'], ['Gentoo', 'Biscoe', '42.9', '13.1', '215', '5000', 'FEMALE'], ['Gentoo', 'Biscoe', '46.1', '15.1', '215', '5100', 'MALE'], ['Gentoo', 'Biscoe', '44.5', '14.3', '216', '4100', 'NA'], ['Gentoo', 'Biscoe', '47.8', '15', '215', '5650', 'MALE'], ['Gentoo', 'Biscoe', '48.2', '14.3', '210', '4600', 'FEMALE'], ['Gentoo', 'Biscoe', '50', '15.3', '220', '5550', 'MALE'], ['Gentoo', 'Biscoe', '47.3', '15.3', '222', '5250', 'MALE'], ['Gentoo', 'Biscoe', '42.8', '14.2', '209', '4700', 'FEMALE'], ['Gentoo', 'Biscoe', '45.1', '14.5', '207', '5050', 'FEMALE'], ['Gentoo', 'Biscoe', '59.6', '17', '230', '6050', 'MALE'], ['Gentoo', 'Biscoe', '49.1', '14.8', '220', '5150', 'FEMALE'], ['Gentoo', 'Biscoe', '48.4', '16.3', '220', '5400', 'MALE'], ['Gentoo', 'Biscoe', '42.6', '13.7', '213', '4950', 'FEMALE'], ['Gentoo', 'Biscoe', '44.4', '17.3', '219', '5250', 'MALE'], ['Gentoo', 'Biscoe', '44', '13.6', '208', '4350', 'FEMALE'], ['Gentoo', 'Biscoe', '48.7', '15.7', '208', '5350', 'MALE'], ['Gentoo', 'Biscoe', '42.7', '13.7', '208', '3950', 'FEMALE'], ['Gentoo', 'Biscoe', '49.6', '16', '225', '5700', 'MALE'], ['Gentoo', 'Biscoe', '45.3', '13.7', '210', '4300', 'FEMALE'], ['Gentoo', 'Biscoe', '49.6', '15', '216', '4750', 'MALE'], ['Gentoo', 'Biscoe', '50.5', '15.9', '222', '5550', 'MALE'], ['Gentoo', 'Biscoe', '43.6', '13.9', '217', '4900', 'FEMALE'], ['Gentoo', 'Biscoe', '45.5', '13.9', '210', '4200', 'FEMALE'], ['Gentoo', 'Biscoe', '50.5', '15.9', '225', '5400', 'MALE'], ['Gentoo', 'Biscoe', '44.9', '13.3', '213', '5100', 'FEMALE'], ['Gentoo', 'Biscoe', '45.2', '15.8', '215', '5300', 'MALE'], ['Gentoo', 'Biscoe', '46.6', '14.2', '210', '4850', 'FEMALE'], ['Gentoo', 'Biscoe', '48.5', '14.1', '220', '5300', 'MALE'], ['Gentoo', 'Biscoe', '45.1', '14.4', '210', '4400', 'FEMALE'], ['Gentoo', 'Biscoe', '50.1', '15', '225', '5000', 'MALE'], ['Gentoo', 'Biscoe', '46.5', '14.4', '217', '4900', 'FEMALE'], ['Gentoo', 'Biscoe', '45', '15.4', '220', '5050', 'MALE'], ['Gentoo', 'Biscoe', '43.8', '13.9', '208', '4300', 'FEMALE'], ['Gentoo', 'Biscoe', '45.5', '15', '220', '5000', 'MALE'], ['Gentoo', 'Biscoe', '43.2', '14.5', '208', '4450', 'FEMALE'], ['Gentoo', 'Biscoe', '50.4', '15.3', '224', '5550', 'MALE'], ['Gentoo', 'Biscoe', '45.3', '13.8', '208', '4200', 'FEMALE'], ['Gentoo', 'Biscoe', '46.2', '14.9', '221', '5300', 'MALE'], ['Gentoo', 'Biscoe', '45.7', '13.9', '214', '4400', 'FEMALE'], ['Gentoo', 'Biscoe', '54.3', '15.7', '231', '5650', 'MALE'], ['Gentoo', 'Biscoe', '45.8', '14.2', '219', '4700', 'FEMALE'], ['Gentoo', 'Biscoe', '49.8', '16.8', '230', '5700', 'MALE'], ['Gentoo', 'Biscoe', '46.2', '14.4', '214', '4650', 'NA'], ['Gentoo', 'Biscoe', '49.5', '16.2', '229', '5800', 'MALE'], ['Gentoo', 'Biscoe', '43.5', '14.2', '220', '4700', 'FEMALE'], ['Gentoo', 'Biscoe', '50.7', '15', '223', '5550', 'MALE'], ['Gentoo', 'Biscoe', '47.7', '15', '216', '4750', 'FEMALE'], ['Gentoo', 'Biscoe', '46.4', '15.6', '221', '5000', 'MALE'], ['Gentoo', 'Biscoe', '48.2', '15.6', '221', '5100', 'MALE'], ['Gentoo', 'Biscoe', '46.5', '14.8', '217', '5200', 'FEMALE'], ['Gentoo', 'Biscoe', '46.4', '15', '216', '4700', 'FEMALE'], ['Gentoo', 'Biscoe', '48.6', '16', '230', '5800', 'MALE'], ['Gentoo', 'Biscoe', '47.5', '14.2', '209', '4600', 'FEMALE'], ['Gentoo', 'Biscoe', '51.1', '16.3', '220', '6000', 'MALE'], ['Gentoo', 'Biscoe', '45.2', '13.8', '215', '4750', 'FEMALE'], ['Gentoo', 'Biscoe', '45.2', '16.4', '223', '5950', 'MALE'], ['Gentoo', 'Biscoe', '49.1', '14.5', '212', '4625', 'FEMALE'], ['Gentoo', 'Biscoe', '52.5', '15.6', '221', '5450', 'MALE'], ['Gentoo', 'Biscoe', '47.4', '14.6', '212', '4725', 'FEMALE'], ['Gentoo', 'Biscoe', '50', '15.9', '224', '5350', 'MALE'], ['Gentoo', 'Biscoe', '44.9', '13.8', '212', '4750', 'FEMALE'], ['Gentoo', 'Biscoe', '50.8', '17.3', '228', '5600', 'MALE'], ['Gentoo', 'Biscoe', '43.4', '14.4', '218', '4600', 'FEMALE'], ['Gentoo', 'Biscoe', '51.3', '14.2', '218', '5300', 'MALE'], ['Gentoo', 'Biscoe', '47.5', '14', '212', '4875', 'FEMALE'], ['Gentoo', 'Biscoe', '52.1', '17', '230', '5550', 'MALE'], ['Gentoo', 'Biscoe', '47.5', '15', '218', '4950', 'FEMALE'], ['Gentoo', 'Biscoe', '52.2', '17.1', '228', '5400', 'MALE'], ['Gentoo', 'Biscoe', '45.5', '14.5', '212', '4750', 'FEMALE'], ['Gentoo', 'Biscoe', '49.5', '16.1', '224', '5650', 'MALE'], ['Gentoo', 'Biscoe', '44.5', '14.7', '214', '4850', 'FEMALE'], ['Gentoo', 'Biscoe', '50.8', '15.7', '226', '5200', 'MALE'], ['Gentoo', 'Biscoe', '49.4', '15.8', '216', '4925', 'MALE'], ['Gentoo', 'Biscoe', '46.9', '14.6', '222', '4875', 'FEMALE'], ['Gentoo', 'Biscoe', '48.4', '14.4', '203', '4625', 'FEMALE'], ['Gentoo', 'Biscoe', '51.1', '16.5', '225', '5250', 'MALE'], ['Gentoo', 'Biscoe', '48.5', '15', '219', '4850', 'FEMALE'], ['Gentoo', 'Biscoe', '55.9', '17', '228', '5600', 'MALE'], ['Gentoo', 'Biscoe', '47.2', '15.5', '215', '4975', 'FEMALE'], ['Gentoo', 'Biscoe', '49.1', '15', '228', '5500', 'MALE'], ['Gentoo', 'Biscoe', '47.3', '13.8', '216', '4725', 'NA'], ['Gentoo', 'Biscoe', '46.8', '16.1', '215', '5500', 'MALE'], ['Gentoo', 'Biscoe', '41.7', '14.7', '210', '4700', 'FEMALE'], ['Gentoo', 'Biscoe', '53.4', '15.8', '219', '5500', 'MALE'], ['Gentoo', 'Biscoe', '43.3', '14', '208', '4575', 'FEMALE'], ['Gentoo', 'Biscoe', '48.1', '15.1', '209', '5500', 'MALE'], ['Gentoo', 'Biscoe', '50.5', '15.2', '216', '5000', 'FEMALE'], ['Gentoo', 'Biscoe', '49.8', '15.9', '229', '5950', 'MALE'], ['Gentoo', 'Biscoe', '43.5', '15.2', '213', '4650', 'FEMALE'], ['Gentoo', 'Biscoe', '51.5', '16.3', '230', '5500', 'MALE'], ['Gentoo', 'Biscoe', '46.2', '14.1', '217', '4375', 'FEMALE'], ['Gentoo', 'Biscoe', '55.1', '16', '230', '5850', 'MALE'], ['Gentoo', 'Biscoe', '44.5', '15.7', '217', '4875', '.'], ['Gentoo', 'Biscoe', '48.8', '16.2', '222', '6000', 'MALE'], ['Gentoo', 'Biscoe', '47.2', '13.7', '214', '4925', 'FEMALE'], ['Gentoo', 'Biscoe', 'NA', 'NA', 'NA', 'NA', 'NA'], ['Gentoo', 'Biscoe', '46.8', '14.3', '215', '4850', 'FEMALE'], ['Gentoo', 'Biscoe', '50.4', '15.7', '222', '5750', 'MALE'], ['Gentoo', 'Biscoe', '45.2', '14.8', '212', '5200', 'FEMALE'], ['Gentoo', 'Biscoe', '49.9', '16.1', '213', '5400', 'MALE']]\n"
     ]
    }
   ],
   "source": [
    "def read_dataset_csv(\n",
    "    csv_file_path: Path | str,\n",
    "    delimiter: str,\n",
    ") -> tuple[list[str], list[list[str]]]:\n",
    "    \"\"\"Read dataset saved as CSV text file\n",
    "\n",
    "    Parameters\n",
    "    ----------\n",
    "    csv_file_path: Path | str\n",
    "        Path to CSV file\n",
    "    delimiter: str\n",
    "        String symbol(s) indicating separation between columns\n",
    "\n",
    "    Returns\n",
    "    -------\n",
    "    header: list[str]\n",
    "        List with header text for each column in dataset\n",
    "\n",
    "    data: list[list[str]]]\n",
    "        Nested list with numeric data from dataset.\n",
    "        Each element is a list corresponding to a row in the dataset.\n",
    "        Each element of the \"inner list\" is a string(!) with the data\n",
    "        for a given row and column.\n",
    "    \"\"\"\n",
    "    data = []\n",
    "    with open(csv_file_path, newline = '', encoding='utf-8-sig') as csvfile:\n",
    "        csvreader = csv.reader(csvfile, delimiter=delimiter)\n",
    "        for line in csvreader:\n",
    "            data.append(line)\n",
    "    header = data[0]\n",
    "    data = data[1:]\n",
    "    return header, data\n",
    "\n",
    "header, data = read_dataset_csv(\"datasets/palmer_penguins.csv\", \",\")\n",
    "print(header)\n",
    "print(data)"
   ]
  },
  {
   "cell_type": "code",
   "execution_count": 65,
   "metadata": {},
   "outputs": [
    {
     "name": "stdout",
     "output_type": "stream",
     "text": [
      "\u001b[32m.\u001b[0m\u001b[32m.\u001b[0m\u001b[32m                                                                                           [100%]\u001b[0m\n",
      "\u001b[32m\u001b[32m\u001b[1m2 passed\u001b[0m\u001b[32m in 0.02s\u001b[0m\u001b[0m\n"
     ]
    }
   ],
   "source": [
    "%%ipytest\n",
    "\n",
    "\n",
    "def test_read_dataset_csv_1():\n",
    "    header, data = read_dataset_csv(\"datasets/winequality-white.csv\", \";\")\n",
    "    assert len(header) == 12\n",
    "    assert header[5] == \"free sulfur dioxide\"\n",
    "    assert header[11] == \"quality\"\n",
    "    assert len(data) == 4898\n",
    "    assert len(data[0]) == 12\n",
    "    assert data[42][0] == \"7\"\n",
    "    assert data[42][7] == \"0.9954\"\n",
    "\n",
    "\n",
    "def test_read_dataset_csv_3():\n",
    "    header, data = read_dataset_csv(\"datasets/palmer_penguins.csv\", \",\")\n",
    "    assert header == [\n",
    "        \"species\",\n",
    "        \"island\",\n",
    "        \"culmen_length_mm\",\n",
    "        \"culmen_depth_mm\",\n",
    "        \"flipper_length_mm\",\n",
    "        \"body_mass_g\",\n",
    "        \"sex\",\n",
    "    ]\n",
    "    assert len(data) == 344\n",
    "    assert len(data[0]) == 7\n",
    "    assert data[42] == [\"Adelie\", \"Dream\", \"36\", \"18.5\", \"186\", \"3100\", \"FEMALE\"]\n"
   ]
  },
  {
   "cell_type": "markdown",
   "metadata": {},
   "source": [
    "## Oppgave 4: Lese og normalisere data fra CSV-fil\n",
    "Implementer en funksjon som \n",
    "- leser inn datasettet som er lagret i `datasets/winequality-white.csv`\n",
    "- konverterer datasettet til et NumPy-array med datatype `np.float32`\n",
    "- normaliserer alle verdiene (Z-score) *unntatt* den siste kolonna (\"quality\")\n",
    "\n",
    "Bruk gjerne funksjonene som du allerede har implementert over (unngå klipp-og-lim, om du\n",
    "kan)."
   ]
  },
  {
   "cell_type": "code",
   "execution_count": 79,
   "metadata": {},
   "outputs": [],
   "source": [
    "def read_normalize_wine_quality(\n",
    "    wine_quality_csv_path: Path | str,\n",
    ") -> tuple[list[str], NDArray]:\n",
    "    \"\"\"Read and normalize wine quality dataset\n",
    "\n",
    "    Returns\n",
    "    -------\n",
    "    header: list[str]\n",
    "        List of column headers\n",
    "    X_norm: NDArray[np.float32]\n",
    "        Normalized version of wine quality dataset\n",
    "        Shape (n_samples, n_features)\n",
    "        Last column (\"quality\") is NOT normalized\n",
    "    \"\"\"\n",
    "    header, data = read_dataset_csv(wine_quality_csv_path, delimiter=\";\")\n",
    "    X = np.array(data, dtype=np.float32)\n",
    "\n",
    "    norm_col = [True] * np.shape(X)[1]\n",
    "    norm_col[-1] = False \n",
    "\n",
    "    X_norm = normalize_data_zscore(X,  norm_col)\n",
    "\n",
    "    return header, X_norm\n",
    "\n",
    "\n"
   ]
  },
  {
   "cell_type": "code",
   "execution_count": 243,
   "metadata": {},
   "outputs": [
    {
     "name": "stdout",
     "output_type": "stream",
     "text": [
      "\u001b[32m.\u001b[0m\u001b[32m                                                                                            [100%]\u001b[0m\n",
      "\u001b[32m\u001b[32m\u001b[1m1 passed\u001b[0m\u001b[32m in 0.03s\u001b[0m\u001b[0m\n"
     ]
    }
   ],
   "source": [
    "%%ipytest\n",
    "\n",
    "\n",
    "def test_read_normalize_wine_quality():\n",
    "    header, X_norm = read_normalize_wine_quality(\"datasets/winequality-white.csv\")\n",
    "    assert header == [  'fixed acidity', 'volatile acidity', 'citric acid', \n",
    "                        'residual sugar', 'chlorides', 'free sulfur dioxide', \n",
    "                        'total sulfur dioxide', 'density', 'pH', \n",
    "                        'sulphates', 'alcohol', 'quality']  # fmt: skip\n",
    "    assert X_norm.shape == (4898, 12)\n",
    "    assert np.allclose(X_norm[0], np.array([ \n",
    "        0.17209677, -0.08176959,  0.21328036,  2.8213494,  -0.03535487,  0.56993145,\n",
    "        0.74456507,  2.3315275,  -1.2469205,  -0.34918445, -1.3931531,   6.        ]))  # fmt: skip\n",
    "    assert np.allclose(X_norm[2048], np.array([\n",
    "        -0.06493103,  0.5135615,   0.87439656,  0.12000002,  0.19352268, -0.37094605,\n",
    "         0.39157180,  0.49242657, -0.31967650, -0.61207900, -0.82427645,  5.        ]))  # fmt: skip\n"
   ]
  },
  {
   "cell_type": "markdown",
   "metadata": {},
   "source": [
    "## Oppgave 5: Lese JSON-fil\n",
    "Implementer en funksjon som leser inn informasjon om Nobelprisen fra JSON-fila\n",
    "`datasets/nobel_prize.json`, og som returnerer en liste over alle Nobelprisvinnerne\n",
    "innenfor et gitt fagfelt, i kronologisk rekkefølge. \n",
    "\n",
    "Merk at JSON-fila utgjør en dypt \"nøstet\" struktur, som oversettes til en dictionary med\n",
    "inneholder mange nivåer av dictionaries og lister når den leses inn. Du må selv skaffe\n",
    "deg oversikt over datastrukturen og hente ut informasjonen du trenger. \n"
   ]
  },
  {
   "cell_type": "code",
   "execution_count": 164,
   "metadata": {},
   "outputs": [
    {
     "name": "stdout",
     "output_type": "stream",
     "text": [
      "['Wilhelm Conrad Röntgen', 'Hendrik A. Lorentz', 'Pieter Zeeman', 'Henri Becquerel', 'Pierre Curie', 'Marie Curie', 'Lord Rayleigh', 'Philipp Lenard', 'J.J. Thomson', 'Albert A. Michelson', 'Gabriel Lippmann', 'Guglielmo Marconi', 'Ferdinand Braun', 'Johannes Diderik van der Waals', 'Wilhelm Wien', 'Gustaf Dalén', 'Heike Kamerlingh Onnes', 'Max von Laue', 'William Bragg', 'Lawrence Bragg', 'Charles Glover Barkla', 'Max Planck', 'Johannes Stark', 'Charles Edouard Guillaume', 'Albert Einstein', 'Niels Bohr', 'Robert A. Millikan', 'Manne Siegbahn', 'James Franck', 'Gustav Hertz', 'Jean Baptiste Perrin', 'Arthur H. Compton', 'C.T.R. Wilson', 'Owen Willans Richardson', 'Louis de Broglie', 'Sir Chandrasekhara Venkata Raman', 'Werner Heisenberg', 'Erwin Schrödinger', 'Paul A.M. Dirac', 'James Chadwick', 'Victor F. Hess', 'Carl D. Anderson', 'Clinton Davisson', 'George Paget Thomson', 'Enrico Fermi', 'Ernest Lawrence', 'Otto Stern', 'Isidor Isaac Rabi', 'Wolfgang Pauli', 'Percy W. Bridgman', 'Edward V. Appleton', 'Patrick M.S. Blackett', 'Hideki Yukawa', 'Cecil Powell', 'John Cockcroft', 'Ernest T.S. Walton', 'Felix Bloch', 'E. M. Purcell', 'Frits Zernike', 'Max Born', 'Walther Bothe', 'Willis E. Lamb', 'Polykarp Kusch', 'William B. Shockley', 'John Bardeen', 'Walter H. Brattain', 'Chen Ning Yang', 'Tsung-Dao Lee', 'Pavel A. Cherenkov', 'Igor Y. Tamm', 'Il´ja M. Frank', 'Emilio Segrè', 'Owen Chamberlain', 'Donald A. Glaser', 'Robert Hofstadter', 'Rudolf Mössbauer', 'Lev Landau', 'Eugene Wigner', 'Maria Goeppert Mayer', 'J. Hans D. Jensen', 'Charles H. Townes', 'Nicolay G. Basov', 'Aleksandr M. Prokhorov', 'Sin-Itiro Tomonaga', 'Julian Schwinger', 'Richard P. Feynman', 'Alfred Kastler', 'Hans Bethe', 'Luis Alvarez', 'Murray Gell-Mann', 'Hannes Alfvén', 'Louis Néel', 'Dennis Gabor', 'John Bardeen', 'Leon N. Cooper', 'Robert Schrieffer', 'Leo Esaki', 'Ivar Giaever', 'Brian D. Josephson', 'Martin Ryle', 'Antony Hewish', 'Aage N. Bohr', 'Ben R. Mottelson', 'James Rainwater', 'Burton Richter', 'Samuel C.C. Ting', 'Philip W. Anderson', 'Sir Nevill F. Mott', 'John H. Van Vleck', 'Pyotr Kapitsa', 'Arno Penzias', 'Robert Woodrow Wilson', 'Sheldon Glashow', 'Abdus Salam', 'Steven Weinberg', 'James Cronin', 'Val Fitch', 'Nicolaas Bloembergen', 'Arthur L. Schawlow', 'Kai M. Siegbahn', 'Kenneth G. Wilson', 'Subrahmanyan Chandrasekhar', 'William A. Fowler', 'Carlo Rubbia', 'Simon van der Meer', 'Klaus von Klitzing', 'Ernst Ruska', 'Gerd Binnig', 'Heinrich Rohrer', 'J. Georg Bednorz', 'K. Alex Müller', 'Leon M. Lederman', 'Melvin Schwartz', 'Jack Steinberger', 'Norman F. Ramsey', 'Hans G. Dehmelt', 'Wolfgang Paul', 'Jerome I. Friedman', 'Henry W. Kendall', 'Richard E. Taylor', 'Pierre-Gilles de Gennes', 'Georges Charpak', 'Russell A. Hulse', 'Joseph H. Taylor Jr.', 'Bertram N. Brockhouse', 'Clifford G. Shull', 'Martin L. Perl', 'Frederick Reines', 'David M. Lee', 'Douglas D. Osheroff', 'Robert C. Richardson', 'Steven Chu', 'Claude Cohen-Tannoudji', 'William D. Phillips', 'Robert B. Laughlin', 'Horst L. Störmer', 'Daniel C. Tsui', \"Gerardus 't Hooft\", 'Martinus J.G. Veltman', 'Zhores Alferov', 'Herbert Kroemer', 'Jack Kilby', 'Eric Cornell', 'Wolfgang Ketterle', 'Carl Wieman', 'Raymond Davis Jr.', 'Masatoshi Koshiba', 'Riccardo Giacconi', 'Alexei Abrikosov', 'Vitaly L. Ginzburg', 'Anthony J. Leggett', 'David J. Gross', 'H. David Politzer', 'Frank Wilczek', 'Roy J. Glauber', 'John L. Hall', 'Theodor W. Hänsch', 'John C. Mather', 'George F. Smoot', 'Albert Fert', 'Peter Grünberg', 'Yoichiro Nambu', 'Makoto Kobayashi', 'Toshihide Maskawa', 'Charles K. Kao', 'Willard S. Boyle', 'George E. Smith', 'Andre Geim', 'Konstantin Novoselov', 'Saul Perlmutter', 'Brian P. Schmidt', 'Adam G. Riess', 'Serge Haroche', 'David J. Wineland', 'François Englert', 'Peter Higgs', 'Isamu Akasaki', 'Hiroshi Amano', 'Shuji Nakamura', 'Takaaki Kajita', 'Arthur B. McDonald', 'David J. Thouless', 'F. Duncan M. Haldane', 'J. Michael Kosterlitz', 'Rainer Weiss', 'Barry C. Barish', 'Kip S. Thorne', 'Arthur Ashkin', 'Gérard Mourou', 'Donna Strickland', 'James Peebles', 'Michel Mayor', 'Didier Queloz', 'Roger Penrose', 'Reinhard Genzel', 'Andrea Ghez', 'Syukuro Manabe', 'Klaus Hasselmann', 'Giorgio Parisi', 'Alain Aspect', 'John  Clauser', 'Anton Zeilinger', 'Pierre Agostini', 'Ferenc Krausz', 'Anne L’Huillier']\n"
     ]
    }
   ],
   "source": [
    "def nobel_laureates(json_file_path: Path | str, category: str) -> list[str]:\n",
    "    \"\"\"Return full name of all Nobel prize winners (laureates) in given category\n",
    "\n",
    "    Parameters\n",
    "    ----------\n",
    "    json_file_path: Path | str\n",
    "        Path to JSON file (str or pathlib.Path) with Nobel prizes\n",
    "    category: str\n",
    "        String indicating Nobel prize category\n",
    "        (e.g. 'medicine' or 'literature')\n",
    "\n",
    "    Returns\n",
    "    -------\n",
    "    winners: str\n",
    "        List of full names for every Nobel prize winner in given category, ordered\n",
    "        chronologically from first to last. In years with multiple winners, winners are\n",
    "        listed in the same order as they are listed in the JSON file. Example for\n",
    "        literature: (['Sully Prudhomme', ..., 'Jon Fosse'])\n",
    "    \"\"\"\n",
    "    with open(json_file_path, newline='') as file:\n",
    "        data = json.loads(file.read())\n",
    "    winners = []\n",
    "    for key, value in data.items():\n",
    "        if key == \"prizes\":\n",
    "            for prize in value:\n",
    "                if prize['category'] == category:\n",
    "                    for key, value in prize.items():\n",
    "                        if key == 'laureates':\n",
    "                            winners_this_year = []\n",
    "                            for winner in value:\n",
    "                                winners_this_year.append(' '.join((winner['firstname'], winner['surname'])))\n",
    "                            winners_this_year.reverse()\n",
    "                            for winner in winners_this_year:\n",
    "                                winners.append(winner)\n",
    "                                          \n",
    "    winners.reverse()\n",
    "    \n",
    "    print(winners)\n",
    "    \n",
    "    return winners\n",
    "\n",
    "names = nobel_laureates(\"datasets/nobel_prize.json\", \"physics\")"
   ]
  },
  {
   "cell_type": "code",
   "execution_count": 165,
   "metadata": {},
   "outputs": [
    {
     "name": "stdout",
     "output_type": "stream",
     "text": [
      "\u001b[32m.\u001b[0m\u001b[32m.\u001b[0m\u001b[32m.\u001b[0m\u001b[32m                                                                                          [100%]\u001b[0m\n",
      "\u001b[32m\u001b[32m\u001b[1m3 passed\u001b[0m\u001b[32m in 0.01s\u001b[0m\u001b[0m\n"
     ]
    }
   ],
   "source": [
    "%%ipytest\n",
    "\n",
    "\n",
    "def test_nobel_laureates_1():\n",
    "    names = nobel_laureates(\"datasets/nobel_prize.json\", \"literature\")\n",
    "    assert len(names) == 120\n",
    "    assert names[0] == \"Sully Prudhomme\"\n",
    "    assert names[19] == \"Knut Hamsun\"\n",
    "    assert names[-1] == \"Jon Fosse\"\n",
    "\n",
    "\n",
    "def test_nobel_laureates_2():\n",
    "    names = nobel_laureates(\"datasets/nobel_prize.json\", \"physics\")\n",
    "    assert len(names) == 225\n",
    "    assert names[0] == \"Wilhelm Conrad Röntgen\"\n",
    "    assert names[5] == \"Marie Curie\"\n",
    "    assert names[-2] == \"Ferenc Krausz\"\n",
    "\n",
    "\n",
    "def test_nobel_laureates_3():\n",
    "    names = nobel_laureates(\"datasets/nobel_prize.json\", \"medicine\")\n",
    "    assert len(names) == 229\n",
    "    assert names[0] == \"Emil von Behring\"\n",
    "    assert names[189] == \"Harald zur Hausen\"\n",
    "    assert names[-1] == \"Gary Ruvkun\""
   ]
  },
  {
   "cell_type": "markdown",
   "metadata": {},
   "source": [
    "## Oppgave 6: Implementere klasse for PCA\n",
    "Fyll ut koden for metodene fit() og transform() for klassen \"PCA\" under. Koden skal\n",
    "baseres på beregning av kovariansmatrise for et datasett, og egenverdier og egenvektorer\n",
    "for denne kovariansmatrisa, som beskrevet i videoer tilhørende denne modulen. Det eneste\n",
    "eksterne biblioteket som trengs er NumPy. Det er ikke lov å bruke ferdige implementasjoner av PCA. "
   ]
  },
  {
   "cell_type": "code",
   "execution_count": 249,
   "metadata": {},
   "outputs": [],
   "source": [
    "class PCA:\n",
    "    \"\"\"Class for fitting a PCA model to data and for transforming data\n",
    "\n",
    "    Attributes\n",
    "    ----------\n",
    "    n_components : int\n",
    "        Number of principal components (eigenvectors with largest eigenvalues) to use\n",
    "    mean: NDArray, shape (n_samples,)\n",
    "        Mean value of each column in data that the model is fitted to\n",
    "    eigenvalues : NDArray, shape (n_features,)\n",
    "        Eigenvalues of data covariance matrix, sorted by value (descending)\n",
    "    eigenvectors : NDArray, shape (n_features, n_features)\n",
    "        Eigenvectors of data covariance matrix, sorted according to their\n",
    "        corresponding eigenvalues (descending).\n",
    "    self.components : NDArray, shape (n_features, n_components)\n",
    "        The n_components first eigenvectors, corresponding to the largest eigenvalues\n",
    "        (i.e. the directions in data space with most variance)\n",
    "    \"\"\"\n",
    "\n",
    "    def __init__(self, n_components: int):\n",
    "        \"\"\"Initialize PCA object\n",
    "\n",
    "        Parameters\n",
    "        ----------\n",
    "        n_components : int\n",
    "            Number of principal components (eigenvectors with largest eigenvalues) to use\n",
    "\n",
    "        \"\"\"\n",
    "        self.n_components = n_components\n",
    "        self.mean = None\n",
    "        self.eigenvalues = None\n",
    "        self.eigenvectors = None\n",
    "        self.components = None\n",
    "\n",
    "\n",
    "    def fit(self, X: NDArray) -> None:\n",
    "        \"\"\"Fit PCA model to data matrix\n",
    "\n",
    "        Parameters\n",
    "        ----------\n",
    "        X: NDArray, shape (n_samples, n_features)\n",
    "            Data matrix used to fit (\"train\") PCA model\n",
    "\n",
    "        Notes\n",
    "        -----\n",
    "        The fit function calculates and sets the following attributes (see doc. of class\n",
    "        attriburtes for details):\n",
    "        - mean\n",
    "        - eigenvalues\n",
    "        - eigenvectors\n",
    "        - components\n",
    "\n",
    "        \"\"\"\n",
    "        self.mean = np.mean(X, axis = 0)\n",
    "        S = np.cov(X, rowvar=False)\n",
    "        self.eigenvalues, self.eigenvectors = np.linalg.eigh(S)\n",
    "\n",
    "        index = np.argsort(self.eigenvalues)[::-1] \n",
    "        self.eigenvalues = self.eigenvalues[index]\n",
    "        self.eigenvectors = self.eigenvectors[:, index]\n",
    "\n",
    "        self.components = np.array(self.eigenvectors[:, :self.n_components])\n",
    "\n",
    "    def transform(self, X: NDArray) -> NDArray:\n",
    "        \"\"\"Transform data from original features to PCA component coordinates\n",
    "\n",
    "        Parameters\n",
    "        ----------\n",
    "        X: NDarray, shape (n_samples, n_features)\n",
    "            Data matrix to be transformed to PCA coordinates\n",
    "            The matrix can be the same as the matrix used to fit the model,\n",
    "            or it can be a different matrix with the same type of data\n",
    "            (same features)\n",
    "\n",
    "        Returns\n",
    "        -------\n",
    "        X_pca: NDArray, shape (n_samples, n_components)\n",
    "            Matrix with data transformed to principal component coordinates.\n",
    "\n",
    "        \"\"\"\n",
    "        X_centered = X - self.mean\n",
    "        X_pca = X_centered @ self.components\n",
    "        return X_pca"
   ]
  },
  {
   "cell_type": "code",
   "execution_count": 250,
   "metadata": {},
   "outputs": [
    {
     "name": "stdout",
     "output_type": "stream",
     "text": [
      "\u001b[32m.\u001b[0m\u001b[32m.\u001b[0m\u001b[32m                                                                                           [100%]\u001b[0m\n",
      "\u001b[32m\u001b[32m\u001b[1m2 passed\u001b[0m\u001b[32m in 0.02s\u001b[0m\u001b[0m\n"
     ]
    }
   ],
   "source": [
    "%%ipytest\n",
    "\n",
    "\n",
    "def test_pca_fit():\n",
    "    X = np.random.multivariate_normal(\n",
    "        mean=[0, -1, 0.5, 2],\n",
    "        cov=[[1, 0.7, 0, 0], [0.7, 1, 0.3, 0], [0, 0.3, 1, 0.1], [0, 0, 0.1, 1]],\n",
    "        size=10000,\n",
    "    )\n",
    "    pca = PCA(n_components=2)\n",
    "    pca.fit(X)\n",
    "    assert np.allclose(pca.mean, [0, -1, 0.5, 2], atol=0.1)\n",
    "    assert pca.eigenvectors.shape == (4, 4)\n",
    "    assert np.allclose(np.abs(pca.components[:, 0]), [0.64, 0.70, 0.28, 0.04], atol=0.1)\n",
    "    assert np.allclose(np.abs(pca.components[:, 1]), [0.27, 0.03, 0.64, 0.71], atol=0.1)\n",
    "\n",
    "\n",
    "def test_pca_transform():\n",
    "    X = np.random.multivariate_normal(\n",
    "        mean=[0, -1, 0.5, 2],\n",
    "        cov=[[1, 0.7, 0, 0], [0.7, 1, 0.3, 0], [0, 0.3, 1, 0.1], [0, 0, 0.1, 1]],\n",
    "        size=10000,\n",
    "    )\n",
    "    pca = PCA(n_components=2)\n",
    "    pca.fit(X)\n",
    "    X_test = np.array([[-0.3, -1.1, 0, 1.5], [0.7, -0.5, 1, 1]])\n",
    "    X_test_pca = pca.transform(X_test)\n",
    "    assert X_test_pca.shape == (2, 2)\n",
    "    # Hard to test exact values because direction of components changes based on random input"
   ]
  },
  {
   "cell_type": "markdown",
   "metadata": {},
   "source": [
    "## Oppgave 7: Les, normalisér og transformer datasett til PCA-koordinater\n",
    "- Les inn datasettet `datasets/winequality-white.csv`. \n",
    "- Opprett en X-matrise som inneholder alle kolonnene unntatt den siste (\"quality\"-kolonna), og normaliser hver av de 11\n",
    "featurene i datasettet med z-score. \n",
    "- Lag et PCA-objekt basert på klassen du har implementert, og spesifiser at kun 2\n",
    "  komponenter skal brukes. Bruk fit() for å \"trene\" PCA-modellen på det normaliserte datasettet.\n",
    "- Bruk transform() for å transformere datasettet til 2 PCA-koordinater\n",
    "- Plott det transformerte datasettet med matplotlib (kode for dette er allerede oppgitt under)"
   ]
  },
  {
   "cell_type": "code",
   "execution_count": 263,
   "metadata": {},
   "outputs": [],
   "source": [
    "# The transformed data matrix should be called X_pca for the plotting below to work\n",
    "header, data = read_dataset_csv('datasets/winequality-white.csv', delimiter=';')\n",
    "X = np.array(data, dtype=float)[:,:-1]\n",
    "norm_col = [True] * np.shape(X)[1]\n",
    "X_norm = normalize_data_zscore(X, norm_col)\n",
    "pca = PCA(n_components=2)\n",
    "pca.fit(X_norm)\n",
    "X_pca = pca.transform(X_norm)"
   ]
  },
  {
   "cell_type": "code",
   "execution_count": 264,
   "metadata": {},
   "outputs": [
    {
     "name": "stderr",
     "output_type": "stream",
     "text": [
      "C:\\Users\\marti\\AppData\\Local\\Temp\\ipykernel_5220\\2980224576.py:3: UserWarning: No data for colormapping provided via 'c'. Parameters 'cmap' will be ignored\n",
      "  plt.scatter(\n"
     ]
    },
    {
     "data": {
      "image/png": "[encoded data removed]",
      "text/plain": [
       "<Figure size 640x480 with 2 Axes>"
      ]
     },
     "metadata": {},
     "output_type": "display_data"
    }
   ],
   "source": [
    "# Plotting av PCA-transformerte verdier\n",
    "n_plot_points = 500\n",
    "plt.scatter(\n",
    "    x=X_pca[0:n_plot_points, 0],\n",
    "    y=X_pca[0:n_plot_points, 1],\n",
    "\n",
    "    # Denne skapte feilemelding hos meg. Mulig fordi jeg forsto det slik at denne ikke skulle være med.\n",
    "    # c=data[0:n_plot_points, -1],  # Use \"quality\" for coloring data points\n",
    "    cmap=\"jet\",\n",
    ")\n",
    "plt.xlabel(\"Principal component 1\")\n",
    "plt.ylabel(\"Principal component 2\")\n",
    "plt.xlim([-4.5, 4.5])\n",
    "plt.ylim([-4.5, 4.5])\n",
    "_ = plt.colorbar()"
   ]
  },
  {
   "cell_type": "markdown",
   "metadata": {},
   "source": [
    "Hvis alt fungerer bør du kunne se at de beste vinene (de som har kvalitet 7 og 8) er\n",
    "gruppert i den ene enden av aksen som tilsvarer principal component 1. Gratulerer, i så\n",
    "fall! Her ser man også at PCA kan \"komprimere\" data (dvs. data spredt over 11 ulike\n",
    "features), og at visualisering av de første 2 komponentene allerede gir oss interessant informasjon."
   ]
  }
 ],
 "metadata": {
  "kernelspec": {
   "display_name": "Python 3",
   "language": "python",
   "name": "python3"
  },
  "language_info": {
   "codemirror_mode": {
    "name": "ipython",
    "version": 3
   },
   "file_extension": ".py",
   "mimetype": "text/x-python",
   "name": "python",
   "nbconvert_exporter": "python",
   "pygments_lexer": "ipython3",
   "version": "3.10.14"
  }
 },
 "nbformat": 4,
 "nbformat_minor": 2
}
