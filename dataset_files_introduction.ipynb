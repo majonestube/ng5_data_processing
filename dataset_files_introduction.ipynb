{
 "cells": [
  {
   "cell_type": "markdown",
   "metadata": {},
   "source": [
    "# Introduksjon til lesing av datasett fra tekstfiler\n",
    "## CSV\n",
    "CSV står for \"comma-separated value\". En slik fil inneholder vanligvis data formatert som en tabell eller matrise med rader og kolonner. Ofte er første linje i fila et sett med \"overskrifter\" for hver kolonne. De påfølgende linjene inneholder en rad per linje. Verdiene er separert med et spesifikt tegn (\"delimiter\"). Dette er ofte komma, men kan også være andre tegn, f.eks. mellomrom (\"white space\") eller \";\".\n",
    "\n",
    "Python har en [egen modul for behandling av CSV-filer](https://docs.python.org/3/library/csv.html). Vi importerer den, og oppgir også path til en eksempelfil:"
   ]
  },
  {
   "cell_type": "code",
   "execution_count": 1,
   "metadata": {},
   "outputs": [],
   "source": [
    "import csv\n",
    "csv_path = 'datasets/sykler.csv'"
   ]
  },
  {
   "cell_type": "markdown",
   "metadata": {},
   "source": [
    "Vi åpner tekstfila på \"vanlig måte\" med en context manager (\"with\"-blokk). Først kan vi se hvordan dette ser ut som \"rådata\":"
   ]
  },
  {
   "cell_type": "code",
   "execution_count": 2,
   "metadata": {},
   "outputs": [
    {
     "name": "stdout",
     "output_type": "stream",
     "text": [
      "Antall gir;Dekkstørrelse (tommer);Vekt (kg);Pris (kr);Type\n",
      "27;28;13,6;6999;Hybrid \n",
      "16;24;9,0;4999;Barn\n",
      "1;16;7,1;2199;Barn\n",
      "6;20;11,9;2799;Barn\n",
      "1;16;5,4;4499;Barn\n",
      "8;24;11,0;5799;Barn\n",
      "18;29;14,5;5999;MTB\n",
      "8;20;7,4;5499;Barn\n",
      "12;29;13,8;9990;MTB\n",
      "12;28;14,5;22699;MTB\n",
      "8;28;14,0;3999;Hybrid \n",
      "10;28;11,0;7499;Hybrid \n",
      "12;27,5;15,9;42990;MTB\n"
     ]
    }
   ],
   "source": [
    "with open(csv_path,newline='') as file:\n",
    "    content = file.read()\n",
    "print(content)"
   ]
  },
  {
   "cell_type": "markdown",
   "metadata": {},
   "source": [
    "Vi kan så bruke csv.reader() for å tolke innholdet i fila som CSV-data. Vi oppretter en CSV-\"reader\", som er en iterator. Hver iterasjon over denne returnerer ei ny linje fra fila, som ei liste med alle verdiene:"
   ]
  },
  {
   "cell_type": "code",
   "execution_count": 3,
   "metadata": {},
   "outputs": [
    {
     "name": "stdout",
     "output_type": "stream",
     "text": [
      "['Antall gir', 'Dekkstørrelse (tommer)', 'Vekt (kg)', 'Pris (kr)', 'Type']\n",
      "['27', '28', '13,6', '6999', 'Hybrid ']\n",
      "['16', '24', '9,0', '4999', 'Barn']\n",
      "['1', '16', '7,1', '2199', 'Barn']\n",
      "['6', '20', '11,9', '2799', 'Barn']\n",
      "['1', '16', '5,4', '4499', 'Barn']\n",
      "['8', '24', '11,0', '5799', 'Barn']\n",
      "['18', '29', '14,5', '5999', 'MTB']\n",
      "['8', '20', '7,4', '5499', 'Barn']\n",
      "['12', '29', '13,8', '9990', 'MTB']\n",
      "['12', '28', '14,5', '22699', 'MTB']\n",
      "['8', '28', '14,0', '3999', 'Hybrid ']\n",
      "['10', '28', '11,0', '7499', 'Hybrid ']\n",
      "['12', '27,5', '15,9', '42990', 'MTB']\n"
     ]
    }
   ],
   "source": [
    "with open(csv_path,newline='',encoding='utf-8-sig') as csvfile:  # Specify utf-8-sig to avoid including byte order mark\n",
    "    csvreader = csv.reader(csvfile,delimiter=';')\n",
    "    for line in csvreader:\n",
    "        print(line)\n"
   ]
  },
  {
   "cell_type": "markdown",
   "metadata": {},
   "source": [
    "CSV-reader-iteratoren slettes når man kommer ut av \"with\"-blokka. For å ta vare på datasettet kan man gjøre det til en \"liste av lister\":"
   ]
  },
  {
   "cell_type": "code",
   "execution_count": 4,
   "metadata": {},
   "outputs": [
    {
     "name": "stdout",
     "output_type": "stream",
     "text": [
      "[['Antall gir', 'Dekkstørrelse (tommer)', 'Vekt (kg)', 'Pris (kr)', 'Type'], ['27', '28', '13,6', '6999', 'Hybrid '], ['16', '24', '9,0', '4999', 'Barn'], ['1', '16', '7,1', '2199', 'Barn'], ['6', '20', '11,9', '2799', 'Barn'], ['1', '16', '5,4', '4499', 'Barn'], ['8', '24', '11,0', '5799', 'Barn'], ['18', '29', '14,5', '5999', 'MTB'], ['8', '20', '7,4', '5499', 'Barn'], ['12', '29', '13,8', '9990', 'MTB'], ['12', '28', '14,5', '22699', 'MTB'], ['8', '28', '14,0', '3999', 'Hybrid '], ['10', '28', '11,0', '7499', 'Hybrid '], ['12', '27,5', '15,9', '42990', 'MTB']]\n"
     ]
    }
   ],
   "source": [
    "data = []\n",
    "with open(csv_path,newline='',encoding='utf-8-sig') as csvfile:  # Specify utf-8-sig to avoid including byte order mark\n",
    "    csvreader = csv.reader(csvfile,delimiter=';')\n",
    "    for line in csvreader:\n",
    "        data.append(line)\n",
    "\n",
    "print(data)"
   ]
  },
  {
   "cell_type": "markdown",
   "metadata": {},
   "source": [
    "Så kan man ta vare på første linje over overskrifter som en egen variabel, og behandle resten av datasettet videre - f.eks. gjøre det om til et NumPy-array."
   ]
  },
  {
   "cell_type": "code",
   "execution_count": 5,
   "metadata": {},
   "outputs": [
    {
     "name": "stdout",
     "output_type": "stream",
     "text": [
      "header=['Antall gir', 'Dekkstørrelse (tommer)', 'Vekt (kg)', 'Pris (kr)', 'Type']\n",
      "X=array([['27', '28', '13,6', '6999', 'Hybrid '],\n",
      "       ['16', '24', '9,0', '4999', 'Barn'],\n",
      "       ['1', '16', '7,1', '2199', 'Barn'],\n",
      "       ['6', '20', '11,9', '2799', 'Barn'],\n",
      "       ['1', '16', '5,4', '4499', 'Barn'],\n",
      "       ['8', '24', '11,0', '5799', 'Barn'],\n",
      "       ['18', '29', '14,5', '5999', 'MTB'],\n",
      "       ['8', '20', '7,4', '5499', 'Barn'],\n",
      "       ['12', '29', '13,8', '9990', 'MTB'],\n",
      "       ['12', '28', '14,5', '22699', 'MTB'],\n",
      "       ['8', '28', '14,0', '3999', 'Hybrid '],\n",
      "       ['10', '28', '11,0', '7499', 'Hybrid '],\n",
      "       ['12', '27,5', '15,9', '42990', 'MTB']], dtype='<U7')\n"
     ]
    }
   ],
   "source": [
    "header = data[0]\n",
    "import numpy as np\n",
    "X = np.array(data[1:])\n",
    "\n",
    "print(f'{header=}')\n",
    "print(f'{X=}')\n"
   ]
  },
  {
   "cell_type": "markdown",
   "metadata": {},
   "source": [
    "## JSON\n",
    "[JSON](https://en.wikipedia.org/wiki/JSON) står for \"JavaScript Object Notation\", men har etterhvert blitt et dataformat som er uavhengig av programmeringsspråk. Python har en [egen modul for å lese og skrive JSON-filer](https://docs.python.org/3/library/json.html#module-json). Vi importerer denne, og definerer samtidig path til et datasett med astronauter."
   ]
  },
  {
   "cell_type": "code",
   "execution_count": 6,
   "metadata": {},
   "outputs": [],
   "source": [
    "import json\n",
    "json_path = 'datasets/astronauts.json'"
   ]
  },
  {
   "cell_type": "markdown",
   "metadata": {},
   "source": [
    "Vi leser inn JSON-fila på samme måte som hvilken som helst annen tekstfil:"
   ]
  },
  {
   "cell_type": "code",
   "execution_count": 7,
   "metadata": {},
   "outputs": [
    {
     "name": "stdout",
     "output_type": "stream",
     "text": [
      "{\"people\": [{\"name\": \"Sergey Prokopyev\", \"craft\": \"ISS\"}, {\"name\": \"Dmitry Petelin\", \"craft\": \"ISS\"}, {\"name\": \"Frank Rubio\", \"craft\": \"ISS\"}, {\"name\": \"Jing Haiping\", \"craft\": \"Tiangong\"}, {\"name\": \"Gui Haichow\", \"craft\": \"Tiangong\"}, {\"name\": \"Zhu Yangzhu\", \"craft\": \"Tiangong\"}, {\"name\": \"Jasmin Moghbeli\", \"craft\": \"ISS\"}, {\"name\": \"Andreas Mogensen\", \"craft\": \"ISS\"}, {\"name\": \"Satoshi Furukawa\", \"craft\": \"ISS\"}, {\"name\": \"Konstantin Borisov\", \"craft\": \"ISS\"}, {\"name\": \"Oleg Kononenko\", \"craft\": \"ISS\"}, {\"name\": \"Nikolai Chub\", \"craft\": \"ISS\"}, {\"name\": \"Loral O'Hara\", \"craft\": \"ISS\"}], \"number\": 13, \"message\": \"success\"}\n"
     ]
    }
   ],
   "source": [
    "with open(json_path,newline='') as file:\n",
    "    content = file.read()\n",
    "print(content)"
   ]
  },
  {
   "cell_type": "markdown",
   "metadata": {},
   "source": [
    "Vi kan legge merke til her at syntaksen for JSON er den samme som Python bruker for å definere lister (dvs. [...]) og dictionaries (dvs. {key:value}). Snedig! JSON-modulen \"oversetter\" teksten til et nøstet sett med lister og dictionaries for oss:"
   ]
  },
  {
   "cell_type": "code",
   "execution_count": 8,
   "metadata": {},
   "outputs": [
    {
     "name": "stdout",
     "output_type": "stream",
     "text": [
      "{'people': [{'name': 'Sergey Prokopyev', 'craft': 'ISS'}, {'name': 'Dmitry Petelin', 'craft': 'ISS'}, {'name': 'Frank Rubio', 'craft': 'ISS'}, {'name': 'Jing Haiping', 'craft': 'Tiangong'}, {'name': 'Gui Haichow', 'craft': 'Tiangong'}, {'name': 'Zhu Yangzhu', 'craft': 'Tiangong'}, {'name': 'Jasmin Moghbeli', 'craft': 'ISS'}, {'name': 'Andreas Mogensen', 'craft': 'ISS'}, {'name': 'Satoshi Furukawa', 'craft': 'ISS'}, {'name': 'Konstantin Borisov', 'craft': 'ISS'}, {'name': 'Oleg Kononenko', 'craft': 'ISS'}, {'name': 'Nikolai Chub', 'craft': 'ISS'}, {'name': \"Loral O'Hara\", 'craft': 'ISS'}], 'number': 13, 'message': 'success'}\n",
      "<class 'dict'>\n"
     ]
    }
   ],
   "source": [
    "with open(json_path,newline='') as file:\n",
    "    astronauts = json.loads(file.read())\n",
    "print(astronauts)\n",
    "print(type(astronauts))"
   ]
  },
  {
   "cell_type": "markdown",
   "metadata": {},
   "source": [
    "Så langt ser den opprinnelige teksten og \"astronauts\" helt like ut. Vi kan vise forskjellen tydeligere ved å iterere over datastrukturen og hente ut navnene på astronautene:"
   ]
  },
  {
   "cell_type": "code",
   "execution_count": 9,
   "metadata": {},
   "outputs": [
    {
     "name": "stdout",
     "output_type": "stream",
     "text": [
      "People in space: \n",
      "\n",
      "Sergey Prokopyev\n",
      "Dmitry Petelin\n",
      "Frank Rubio\n",
      "Jing Haiping\n",
      "Gui Haichow\n",
      "Zhu Yangzhu\n",
      "Jasmin Moghbeli\n",
      "Andreas Mogensen\n",
      "Satoshi Furukawa\n",
      "Konstantin Borisov\n",
      "Oleg Kononenko\n",
      "Nikolai Chub\n",
      "Loral O'Hara\n",
      "\n",
      "number: 13\n",
      "message: success\n"
     ]
    }
   ],
   "source": [
    "for key,value in astronauts.items():\n",
    "    if key == 'people':\n",
    "        print('People in space: \\n')\n",
    "        for person in value:\n",
    "            print(person['name'])\n",
    "        print('')\n",
    "    else:\n",
    "        print(f'{key}: {value}')"
   ]
  },
  {
   "cell_type": "code",
   "execution_count": null,
   "metadata": {},
   "outputs": [],
   "source": []
  }
 ],
 "metadata": {
  "kernelspec": {
   "display_name": "intro-ml-ai",
   "language": "python",
   "name": "python3"
  },
  "language_info": {
   "codemirror_mode": {
    "name": "ipython",
    "version": 3
   },
   "file_extension": ".py",
   "mimetype": "text/x-python",
   "name": "python",
   "nbconvert_exporter": "python",
   "pygments_lexer": "ipython3",
   "version": "3.10.12"
  },
  "orig_nbformat": 4
 },
 "nbformat": 4,
 "nbformat_minor": 2
}
